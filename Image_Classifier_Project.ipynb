{
  "nbformat": 4,
  "nbformat_minor": 0,
  "metadata": {
    "colab": {
      "name": "Image Classifier Project.ipynb",
      "version": "0.3.2",
      "provenance": [],
      "collapsed_sections": [],
      "toc_visible": true,
      "include_colab_link": true
    },
    "kernelspec": {
      "name": "python3",
      "display_name": "Python 3"
    },
    "accelerator": "GPU"
  },
  "cells": [
    {
      "cell_type": "markdown",
      "metadata": {
        "id": "view-in-github",
        "colab_type": "text"
      },
      "source": [
        "<a href=\"https://colab.research.google.com/github/MarwaAllam/Colab/blob/master/Image_Classifier_Project.ipynb\" target=\"_parent\"><img src=\"https://colab.research.google.com/assets/colab-badge.svg\" alt=\"Open In Colab\"/></a>"
      ]
    },
    {
      "metadata": {
        "id": "krEEYarBFuyj",
        "colab_type": "text"
      },
      "cell_type": "markdown",
      "source": [
        "# Developing an AI application\n",
        "\n",
        "Going forward, AI algorithms will be incorporated into more and more everyday applications. For example, you might want to include an image classifier in a smart phone app. To do this, you'd use a deep learning model trained on hundreds of thousands of images as part of the overall application architecture. A large part of software development in the future will be using these types of models as common parts of applications. \n",
        "\n",
        "In this project, you'll train an image classifier to recognize different species of flowers. You can imagine using something like this in a phone app that tells you the name of the flower your camera is looking at. In practice you'd train this classifier, then export it for use in your application. We'll be using [this dataset](http://www.robots.ox.ac.uk/~vgg/data/flowers/102/index.html) of 102 flower categories, you can see a few examples below. \n",
        "\n",
        "<img src='/content/gdrive/My Drive/Colab Notebooks/pytorch_challenge-master/assets/Flowers.png' width=500px>\n",
        "\n",
        "The project is broken down into multiple steps:\n",
        "\n",
        "* Load and preprocess the image dataset\n",
        "* Train the image classifier on your dataset\n",
        "* Use the trained classifier to predict image content\n",
        "\n",
        "We'll lead you through each part which you'll implement in Python.\n",
        "\n",
        "When you've completed this project, you'll have an application that can be trained on any set of labeled images. Here your network will be learning about flowers and end up as a command line application. But, what you do with your new skills depends on your imagination and effort in building a dataset. For example, imagine an app where you take a picture of a car, it tells you what the make and model is, then looks up information about it. Go build your own dataset and make something new.\n",
        "\n",
        "First up is importing the packages you'll need. It's good practice to keep all the imports at the beginning of your code. As you work through this notebook and find you need to import a package, make sure to add the import up here."
      ]
    },
    {
      "metadata": {
        "id": "Cro0BpmIHmoS",
        "colab_type": "code",
        "colab": {}
      },
      "cell_type": "code",
      "source": [
        "# google colab does not come with torch installed. And also, in course we are using torch 0.4. \n",
        "# so following snippet of code installs the relevant version\n",
        "\n",
        "from os.path import exists\n",
        "from wheel.pep425tags import get_abbr_impl, get_impl_ver, get_abi_tag\n",
        "platform = '{}{}-{}'.format(get_abbr_impl(), get_impl_ver(), get_abi_tag())\n",
        "cuda_output = !ldconfig -p|grep cudart.so|sed -e 's/.*\\.\\([0-9]*\\)\\.\\([0-9]*\\)$/cu\\1\\2/'\n",
        "accelerator = cuda_output[0] if exists('/dev/nvidia0') else 'cpu'\n",
        "\n",
        "!pip install -q http://download.pytorch.org/whl/{accelerator}/torch-0.4.1-{platform}-linux_x86_64.whl torchvision\n"
      ],
      "execution_count": 0,
      "outputs": []
    },
    {
      "metadata": {
        "id": "kW558FgbaTER",
        "colab_type": "code",
        "outputId": "48ee3c25-f999-4171-db12-2af7bd56584e",
        "colab": {
          "base_uri": "https://localhost:8080/",
          "height": 34
        }
      },
      "cell_type": "code",
      "source": [
        "from google.colab import drive\n",
        "drive.mount('/content/gdrive', force_remount=True)"
      ],
      "execution_count": 2,
      "outputs": [
        {
          "output_type": "stream",
          "text": [
            "Mounted at /content/gdrive\n"
          ],
          "name": "stdout"
        }
      ]
    },
    {
      "metadata": {
        "id": "pi1BIOuyFuyk",
        "colab_type": "code",
        "outputId": "469f03d3-376e-4093-8223-77513a1e420f",
        "colab": {
          "base_uri": "https://localhost:8080/",
          "height": 34
        }
      },
      "cell_type": "code",
      "source": [
        "# Imports here\n",
        "# Imports here\n",
        "import torch\n",
        "import numpy as np\n",
        "\n",
        "import matplotlib.pyplot as plt\n",
        "%matplotlib inline\n",
        "import seaborn as sns\n",
        "\n",
        "from torch import nn, optim\n",
        "from torch.optim import lr_scheduler, Adam, SGD\n",
        "import torch.nn.functional as F\n",
        "\n",
        "# import torchvision.transforms as transforms\n",
        "from torch.utils.data.sampler import SubsetRandomSampler\n",
        "\n",
        "\n",
        "from torch.utils.data import Dataset, DataLoader\n",
        "from torchvision import transforms, utils, datasets, models\n",
        "import torchvision\n",
        "\n",
        "import time\n",
        "import json\n",
        "import copy\n",
        "\n",
        "import numpy as np\n",
        "from PIL import Image\n",
        "from collections import OrderedDict\n",
        "from torch.autograd import Variable\n",
        "\n",
        "\n",
        "# Ignore warnings\n",
        "import warnings\n",
        "warnings.filterwarnings(\"ignore\")\n",
        "\n",
        "# check if CUDA is available\n",
        "train_on_gpu = torch.cuda.is_available()\n",
        "\n",
        "if not train_on_gpu:\n",
        "    print('CUDA is not available.  Training on CPU ...')\n",
        "else:\n",
        "    print('CUDA is available!  Training on GPU ...')"
      ],
      "execution_count": 3,
      "outputs": [
        {
          "output_type": "stream",
          "text": [
            "CUDA is available!  Training on GPU ...\n"
          ],
          "name": "stdout"
        }
      ]
    },
    {
      "metadata": {
        "id": "oPwJ-R23fhGN",
        "colab_type": "code",
        "outputId": "5b1e3467-f149-4c1c-d0fa-09fbeea1cfaf",
        "colab": {
          "base_uri": "https://localhost:8080/",
          "height": 171
        }
      },
      "cell_type": "code",
      "source": [
        "import PIL\n",
        "print(PIL.PILLOW_VERSION)\n",
        "\n",
        "\n",
        "# we need pillow version of 5.3.0\n",
        "# we will uninstall the older version first\n",
        "!pip uninstall -y Pillow\n",
        "# install the new one\n",
        "!pip install Pillow==5.3.0\n",
        "# import the new one\n",
        "import PIL\n",
        "print(PIL.PILLOW_VERSION)\n",
        "# this should print 5.3.0. If it doesn't, then restart your runtime:\n",
        "# Menu > Runtime > Restart Runtime\n"
      ],
      "execution_count": 4,
      "outputs": [
        {
          "output_type": "stream",
          "text": [
            "5.3.0\n",
            "Uninstalling Pillow-5.3.0:\n",
            "  Successfully uninstalled Pillow-5.3.0\n",
            "Collecting Pillow==5.3.0\n",
            "  Using cached https://files.pythonhosted.org/packages/62/94/5430ebaa83f91cc7a9f687ff5238e26164a779cca2ef9903232268b0a318/Pillow-5.3.0-cp36-cp36m-manylinux1_x86_64.whl\n",
            "Installing collected packages: Pillow\n",
            "Successfully installed Pillow-5.3.0\n",
            "5.3.0\n"
          ],
          "name": "stdout"
        }
      ]
    },
    {
      "metadata": {
        "id": "jTFzF8g7Fuyp",
        "colab_type": "text"
      },
      "cell_type": "markdown",
      "source": [
        "## Load the data\n",
        "\n",
        "Here you'll use `torchvision` to load the data ([documentation](http://pytorch.org/docs/0.3.0/torchvision/index.html)). You can [download the data here](https://s3.amazonaws.com/content.udacity-data.com/courses/nd188/flower_data.zip). The dataset is split into two parts, training and validation. For the training, you'll want to apply transformations such as random scaling, cropping, and flipping. This will help the network generalize leading to better performance. If you use a pre-trained network, you'll also need to make sure the input data is resized to 224x224 pixels as required by the networks.\n",
        "\n",
        "The validation set is used to measure the model's performance on data it hasn't seen yet. For this you don't want any scaling or rotation transformations, but you'll need to resize then crop the images to the appropriate size.\n",
        "\n",
        "The pre-trained networks available from `torchvision` were trained on the ImageNet dataset where each color channel was normalized separately. For both sets you'll need to normalize the means and standard deviations of the images to what the network expects. For the means, it's `[0.485, 0.456, 0.406]` and for the standard deviations `[0.229, 0.224, 0.225]`, calculated from the ImageNet images.  These values will shift each color channel to be centered at 0 and range from -1 to 1."
      ]
    },
    {
      "metadata": {
        "id": "niRQIPCHFuyq",
        "colab_type": "code",
        "colab": {}
      },
      "cell_type": "code",
      "source": [
        "data_dir = '/content/gdrive/My Drive/Colab Notebooks/pytorch_challenge-master/flower_data'\n",
        "train_dir = data_dir + '/train'\n",
        "valid_dir = data_dir + '/valid'\n",
        "test_dir = data_dir + '/valid'"
      ],
      "execution_count": 0,
      "outputs": []
    },
    {
      "metadata": {
        "id": "AQZvSSKZG11G",
        "colab_type": "code",
        "colab": {}
      },
      "cell_type": "code",
      "source": [
        "# TODO: Define your transforms for the training and validation sets\n",
        "data_transforms = {\n",
        "    'train': transforms.Compose([\n",
        "        transforms.RandomRotation(45),\n",
        "        transforms.RandomResizedCrop(224),\n",
        "        transforms.RandomHorizontalFlip(),\n",
        "        transforms.ToTensor(),\n",
        "        transforms.Normalize([0.485, 0.456, 0.406], \n",
        "                             [0.229, 0.224, 0.225])\n",
        "    ]),\n",
        "    'valid': transforms.Compose([\n",
        "        transforms.Resize(256),\n",
        "        transforms.CenterCrop(224),\n",
        "        transforms.ToTensor(),\n",
        "        transforms.Normalize([0.485, 0.456, 0.406], \n",
        "                             [0.229, 0.224, 0.225])\n",
        "    ]),\n",
        "    'test': transforms.Compose([\n",
        "        transforms.Resize(256),\n",
        "        transforms.CenterCrop(224),\n",
        "        transforms.ToTensor(),\n",
        "        transforms.Normalize([0.485, 0.456, 0.406], \n",
        "                             [0.229, 0.224, 0.225])\n",
        "    ]),\n",
        "}"
      ],
      "execution_count": 0,
      "outputs": []
    },
    {
      "metadata": {
        "id": "jNHqRrW1Fuyt",
        "colab_type": "code",
        "colab": {}
      },
      "cell_type": "code",
      "source": [
        "dirs = {'train': train_dir, \n",
        "        'valid': valid_dir,\n",
        "        'test': test_dir,}\n",
        "\n",
        "\n",
        "# TODO: Load the datasets with ImageFolder\n",
        "image_datasets = {x: datasets.ImageFolder(dirs[x],   transform=data_transforms[x]) for x in ['train', 'valid', 'test']}\n",
        "# TODO: Using the image datasets and the trainforms, define the dataloaders\n",
        "dataloaders = {x: torch.utils.data.DataLoader(image_datasets[x], batch_size=32, shuffle=True) for x in ['train', 'valid', 'test']}\n",
        "dataset_sizes = {x: len(image_datasets[x]) \n",
        "                              for x in ['train', 'valid', 'test']}\n",
        "class_names = image_datasets['train'].classes"
      ],
      "execution_count": 0,
      "outputs": []
    },
    {
      "metadata": {
        "id": "GnE3Fbd5Fuyv",
        "colab_type": "text"
      },
      "cell_type": "markdown",
      "source": [
        "### Label mapping\n",
        "\n",
        "You'll also need to load in a mapping from category label to category name. You can find this in the file `cat_to_name.json`. It's a JSON object which you can read in with the [`json` module](https://docs.python.org/2/library/json.html). This will give you a dictionary mapping the integer encoded categories to the actual names of the flowers."
      ]
    },
    {
      "metadata": {
        "id": "ApLAAR7DuiX6",
        "colab_type": "code",
        "colab": {}
      },
      "cell_type": "code",
      "source": [
        "!wget -cq https://github.com/udacity/pytorch_challenge/raw/master/cat_to_name.json "
      ],
      "execution_count": 0,
      "outputs": []
    },
    {
      "metadata": {
        "id": "9oq_GfnnFuyx",
        "colab_type": "code",
        "colab": {}
      },
      "cell_type": "code",
      "source": [
        "import json\n",
        "\n",
        "with open('cat_to_name.json', 'r') as f:\n",
        "    cat_to_name = json.load(f)"
      ],
      "execution_count": 0,
      "outputs": []
    },
    {
      "metadata": {
        "id": "XOADKuw4Fuyz",
        "colab_type": "text"
      },
      "cell_type": "markdown",
      "source": [
        "# Building and training the classifier\n",
        "\n",
        "Now that the data is ready, it's time to build and train the classifier. As usual, you should use one of the pretrained models from `torchvision.models` to get the image features. Build and train a new feed-forward classifier using those features.\n",
        "\n",
        "We're going to leave this part up to you. If you want to talk through it with someone, chat with your fellow students! You can also ask questions on the forums or join the instructors in office hours.\n",
        "\n",
        "Refer to [the rubric](https://review.udacity.com/#!/rubrics/1663/view) for guidance on successfully completing this section. Things you'll need to do:\n",
        "\n",
        "* Load a [pre-trained network](http://pytorch.org/docs/master/torchvision/models.html) (If you need a starting point, the VGG networks work great and are straightforward to use)\n",
        "* Define a new, untrained feed-forward network as a classifier, using ReLU activations and dropout\n",
        "* Train the classifier layers using backpropagation using the pre-trained network to get the features\n",
        "* Track the loss and accuracy on the validation set to determine the best hyperparameters\n",
        "\n",
        "We've left a cell open for you below, but use as many as you need. Our advice is to break the problem up into smaller parts you can run separately. Check that each part is doing what you expect, then move on to the next. You'll likely find that as you work through each part, you'll need to go back and modify your previous code. This is totally normal!\n",
        "\n",
        "When training make sure you're updating only the weights of the feed-forward network. You should be able to get the validation accuracy above 70% if you build everything right. Make sure to try different hyperparameters (learning rate, units in the classifier, epochs, etc) to find the best model. Save those hyperparameters to use as default values in the next part of the project."
      ]
    },
    {
      "metadata": {
        "id": "soj3VcfLFuy0",
        "colab_type": "code",
        "outputId": "43d60ff2-fe60-40fe-8820-ed29d3ae0a44",
        "colab": {
          "base_uri": "https://localhost:8080/",
          "height": 857
        }
      },
      "cell_type": "code",
      "source": [
        "# TODO: Build and train your network\n",
        "model = models.vgg19(pretrained=True)\n",
        "model"
      ],
      "execution_count": 10,
      "outputs": [
        {
          "output_type": "execute_result",
          "data": {
            "text/plain": [
              "VGG(\n",
              "  (features): Sequential(\n",
              "    (0): Conv2d(3, 64, kernel_size=(3, 3), stride=(1, 1), padding=(1, 1))\n",
              "    (1): ReLU(inplace)\n",
              "    (2): Conv2d(64, 64, kernel_size=(3, 3), stride=(1, 1), padding=(1, 1))\n",
              "    (3): ReLU(inplace)\n",
              "    (4): MaxPool2d(kernel_size=2, stride=2, padding=0, dilation=1, ceil_mode=False)\n",
              "    (5): Conv2d(64, 128, kernel_size=(3, 3), stride=(1, 1), padding=(1, 1))\n",
              "    (6): ReLU(inplace)\n",
              "    (7): Conv2d(128, 128, kernel_size=(3, 3), stride=(1, 1), padding=(1, 1))\n",
              "    (8): ReLU(inplace)\n",
              "    (9): MaxPool2d(kernel_size=2, stride=2, padding=0, dilation=1, ceil_mode=False)\n",
              "    (10): Conv2d(128, 256, kernel_size=(3, 3), stride=(1, 1), padding=(1, 1))\n",
              "    (11): ReLU(inplace)\n",
              "    (12): Conv2d(256, 256, kernel_size=(3, 3), stride=(1, 1), padding=(1, 1))\n",
              "    (13): ReLU(inplace)\n",
              "    (14): Conv2d(256, 256, kernel_size=(3, 3), stride=(1, 1), padding=(1, 1))\n",
              "    (15): ReLU(inplace)\n",
              "    (16): Conv2d(256, 256, kernel_size=(3, 3), stride=(1, 1), padding=(1, 1))\n",
              "    (17): ReLU(inplace)\n",
              "    (18): MaxPool2d(kernel_size=2, stride=2, padding=0, dilation=1, ceil_mode=False)\n",
              "    (19): Conv2d(256, 512, kernel_size=(3, 3), stride=(1, 1), padding=(1, 1))\n",
              "    (20): ReLU(inplace)\n",
              "    (21): Conv2d(512, 512, kernel_size=(3, 3), stride=(1, 1), padding=(1, 1))\n",
              "    (22): ReLU(inplace)\n",
              "    (23): Conv2d(512, 512, kernel_size=(3, 3), stride=(1, 1), padding=(1, 1))\n",
              "    (24): ReLU(inplace)\n",
              "    (25): Conv2d(512, 512, kernel_size=(3, 3), stride=(1, 1), padding=(1, 1))\n",
              "    (26): ReLU(inplace)\n",
              "    (27): MaxPool2d(kernel_size=2, stride=2, padding=0, dilation=1, ceil_mode=False)\n",
              "    (28): Conv2d(512, 512, kernel_size=(3, 3), stride=(1, 1), padding=(1, 1))\n",
              "    (29): ReLU(inplace)\n",
              "    (30): Conv2d(512, 512, kernel_size=(3, 3), stride=(1, 1), padding=(1, 1))\n",
              "    (31): ReLU(inplace)\n",
              "    (32): Conv2d(512, 512, kernel_size=(3, 3), stride=(1, 1), padding=(1, 1))\n",
              "    (33): ReLU(inplace)\n",
              "    (34): Conv2d(512, 512, kernel_size=(3, 3), stride=(1, 1), padding=(1, 1))\n",
              "    (35): ReLU(inplace)\n",
              "    (36): MaxPool2d(kernel_size=2, stride=2, padding=0, dilation=1, ceil_mode=False)\n",
              "  )\n",
              "  (classifier): Sequential(\n",
              "    (0): Linear(in_features=25088, out_features=4096, bias=True)\n",
              "    (1): ReLU(inplace)\n",
              "    (2): Dropout(p=0.5)\n",
              "    (3): Linear(in_features=4096, out_features=4096, bias=True)\n",
              "    (4): ReLU(inplace)\n",
              "    (5): Dropout(p=0.5)\n",
              "    (6): Linear(in_features=4096, out_features=1000, bias=True)\n",
              "  )\n",
              ")"
            ]
          },
          "metadata": {
            "tags": []
          },
          "execution_count": 10
        }
      ]
    },
    {
      "metadata": {
        "id": "Tv5-GmbaeALV",
        "colab_type": "code",
        "colab": {}
      },
      "cell_type": "code",
      "source": [
        "classifier = nn.Sequential(OrderedDict([\n",
        "                          ('fc1', nn.Linear(25088, 4096)),\n",
        "                          ('relu', nn.ReLU()),\n",
        "                          ('fc2', nn.Linear(4096, 102)),\n",
        "                          ('output', nn.LogSoftmax(dim=1))\n",
        "                          ]))"
      ],
      "execution_count": 0,
      "outputs": []
    },
    {
      "metadata": {
        "id": "2r2jD4UgdUj4",
        "colab_type": "code",
        "colab": {}
      },
      "cell_type": "code",
      "source": [
        "for param in model.parameters():\n",
        "    param.requires_grad = False"
      ],
      "execution_count": 0,
      "outputs": []
    },
    {
      "metadata": {
        "id": "Ilgu1JbDdUa_",
        "colab_type": "code",
        "colab": {}
      },
      "cell_type": "code",
      "source": [
        "model.classifier = classifier"
      ],
      "execution_count": 0,
      "outputs": []
    },
    {
      "metadata": {
        "id": "w4ovMmyNdUNn",
        "colab_type": "code",
        "colab": {}
      },
      "cell_type": "code",
      "source": [
        "def train_model(model, criteria, optimizer, scheduler,    \n",
        "                                      num_epochs=25, device='cuda'):\n",
        "    since = time.time()\n",
        "\n",
        "    best_model_wts = copy.deepcopy(model.state_dict())\n",
        "    best_acc = 0.0\n",
        "\n",
        "    for epoch in range(num_epochs):\n",
        "        print('Epoch {}/{}'.format(epoch, num_epochs - 1))\n",
        "        print('-' * 10)\n",
        "\n",
        "        # Each epoch has a training and validation phase\n",
        "        for phase in ['train', 'valid']:\n",
        "            if phase == 'train':\n",
        "                scheduler.step()\n",
        "                model.train()  # Set model to training mode\n",
        "            else:\n",
        "                model.eval()   # Set model to evaluate mode\n",
        "\n",
        "            running_loss = 0.0\n",
        "            running_corrects = 0\n",
        "\n",
        "            # Iterate over data.\n",
        "            for inputs, labels in dataloaders[phase]:\n",
        "                inputs = inputs.to(device)\n",
        "                labels = labels.to(device)\n",
        "\n",
        "                # zero the parameter gradients\n",
        "                optimizer.zero_grad()\n",
        "\n",
        "                # forward\n",
        "                # track history if only in train\n",
        "                with torch.set_grad_enabled(phase == 'train'):\n",
        "                    outputs = model.cuda()(inputs)\n",
        "                    _, preds = torch.max(outputs, 1)\n",
        "                    loss = criteria(outputs, labels)\n",
        "\n",
        "                    # backward + optimize only if in training phase\n",
        "                    if phase == 'train':\n",
        "                        loss.backward()\n",
        "                        optimizer.step()\n",
        "\n",
        "                # statistics\n",
        "                running_loss += loss.item() * inputs.size(0)\n",
        "                running_corrects += torch.sum(preds == labels.data)\n",
        "\n",
        "            epoch_loss = running_loss / dataset_sizes[phase]\n",
        "            epoch_acc = running_corrects.double() / dataset_sizes[phase]\n",
        "\n",
        "            print('{} Loss: {:.4f} Acc: {:.4f}'.format(\n",
        "                phase, epoch_loss, epoch_acc))\n",
        "\n",
        "            # deep copy the model\n",
        "            if phase == 'valid' and epoch_acc > best_acc:\n",
        "                best_acc = epoch_acc\n",
        "                best_model_wts = copy.deepcopy(model.state_dict())\n",
        "\n",
        "        print()\n",
        "\n",
        "    time_elapsed = time.time() - since\n",
        "    print('Training complete in {:.0f}m {:.0f}s'.format(\n",
        "        time_elapsed // 60, time_elapsed % 60))\n",
        "    print('Best val Acc: {:4f}'.format(best_acc))\n",
        "\n",
        "    # load best model weights\n",
        "    model.load_state_dict(best_model_wts)\n",
        "    return model\n"
      ],
      "execution_count": 0,
      "outputs": []
    },
    {
      "metadata": {
        "id": "qA2JJBVaeGj5",
        "colab_type": "code",
        "colab": {}
      },
      "cell_type": "code",
      "source": [
        "# Criteria NLLLoss which is recommended with Softmax final layer\n",
        "criteria = nn.NLLLoss()\n",
        "# Observe that all parameters are being optimized\n",
        "optim = optim.SGD(model.classifier.parameters(), lr=0.001)\n",
        "# Decay LR by a factor of 0.1 every 4 epochs\n",
        "sched = lr_scheduler.StepLR(optim, step_size=4, gamma=0.1)\n",
        "# Number of epochs\n",
        "eps=10"
      ],
      "execution_count": 0,
      "outputs": []
    },
    {
      "metadata": {
        "id": "uiLLqV0WeOiX",
        "colab_type": "code",
        "outputId": "58d4941f-7889-4b72-9187-9874b533954d",
        "colab": {
          "base_uri": "https://localhost:8080/",
          "height": 890
        }
      },
      "cell_type": "code",
      "source": [
        "model_ft = train_model(model, criteria, optim, sched, eps, 'cuda')"
      ],
      "execution_count": 16,
      "outputs": [
        {
          "output_type": "stream",
          "text": [
            "Epoch 0/9\n",
            "----------\n",
            "train Loss: 4.4125 Acc: 0.0630\n",
            "valid Loss: 4.0814 Acc: 0.1174\n",
            "\n",
            "Epoch 1/9\n",
            "----------\n",
            "train Loss: 4.0317 Acc: 0.1461\n",
            "valid Loss: 3.6109 Acc: 0.2408\n",
            "\n",
            "Epoch 2/9\n",
            "----------\n",
            "train Loss: 3.6629 Acc: 0.2539\n",
            "valid Loss: 3.1766 Acc: 0.3460\n",
            "\n",
            "Epoch 3/9\n",
            "----------\n",
            "train Loss: 3.3233 Acc: 0.3433\n",
            "valid Loss: 2.7722 Acc: 0.4328\n",
            "\n",
            "Epoch 4/9\n",
            "----------\n",
            "train Loss: 3.1091 Acc: 0.3874\n",
            "valid Loss: 2.7246 Acc: 0.4560\n",
            "\n",
            "Epoch 5/9\n",
            "----------\n",
            "train Loss: 3.0705 Acc: 0.3974\n",
            "valid Loss: 2.6842 Acc: 0.4707\n",
            "\n",
            "Epoch 6/9\n",
            "----------\n",
            "train Loss: 3.0405 Acc: 0.4051\n",
            "valid Loss: 2.6456 Acc: 0.4768\n",
            "\n",
            "Epoch 7/9\n",
            "----------\n",
            "train Loss: 3.0104 Acc: 0.4209\n",
            "valid Loss: 2.6095 Acc: 0.4829\n",
            "\n",
            "Epoch 8/9\n",
            "----------\n",
            "train Loss: 2.9809 Acc: 0.4228\n",
            "valid Loss: 2.6059 Acc: 0.4841\n",
            "\n",
            "Epoch 9/9\n",
            "----------\n",
            "train Loss: 2.9845 Acc: 0.4196\n",
            "valid Loss: 2.6022 Acc: 0.4853\n",
            "\n",
            "Training complete in 75m 27s\n",
            "Best val Acc: 0.485330\n"
          ],
          "name": "stdout"
        }
      ]
    },
    {
      "metadata": {
        "id": "2SVxLHtaHj0B",
        "colab_type": "code",
        "colab": {}
      },
      "cell_type": "code",
      "source": [
        "def calc_accuracy(model, data, cuda=False):\n",
        "    model.eval()\n",
        "    model.to(device='cuda')    \n",
        "    \n",
        "    with torch.no_grad():\n",
        "        for idx, (inputs, labels) in enumerate(dataloaders[data]):\n",
        "            if cuda:\n",
        "                inputs, labels = inputs.cuda(), labels.cuda()\n",
        "            # obtain the outputs from the model\n",
        "            outputs = model.forward(inputs)\n",
        "            # max provides the (maximum probability, max value)\n",
        "            _, predicted = outputs.max(dim=1)\n",
        "            # check the \n",
        "            if idx == 0:\n",
        "                print(predicted) #the predicted class\n",
        "                print(torch.exp(_)) # the predicted probability\n",
        "            equals = predicted == labels.data\n",
        "            if idx == 0:\n",
        "                print(equals)\n",
        "            print(equals.float().mean())"
      ],
      "execution_count": 0,
      "outputs": []
    },
    {
      "metadata": {
        "id": "lrboUsBMFuy3",
        "colab_type": "text"
      },
      "cell_type": "markdown",
      "source": [
        "## Save the checkpoint\n",
        "\n",
        "Now that your network is trained, save the model so you can load it later for making predictions. You probably want to save other things such as the mapping of classes to indices which you get from one of the image datasets: `image_datasets['train'].class_to_idx`. You can attach this to the model as an attribute which makes inference easier later on.\n",
        "\n",
        "```model.class_to_idx = image_datasets['train'].class_to_idx```\n",
        "\n",
        "Remember that you'll want to completely rebuild the model later so you can use it for inference. Make sure to include any information you need in the checkpoint. If you want to load the model and keep training, you'll want to save the number of epochs as well as the optimizer state, `optimizer.state_dict`. You'll likely want to use this trained model in the next part of the project, so best to save it now."
      ]
    },
    {
      "metadata": {
        "id": "Bu80OOoqctMp",
        "colab_type": "code",
        "colab": {}
      },
      "cell_type": "code",
      "source": [
        "# TODO: Save the checkpoint \n",
        "model.class_to_idx = image_datasets['train'].class_to_idx\n",
        "model.cpu()\n",
        "model_save_name = 'classifier.pt'\n",
        "model_save_name2 = 'classifier2.pt'\n",
        "path = F\"/content/gdrive/My Drive/Colab Notebooks/pytorch_challenge-master/{model_save_name2}\" \n",
        "\n",
        "torch.save({'arch': 'vgg19',\n",
        "            'state_dict': model.state_dict(), \n",
        "            'class_to_idx': model.class_to_idx}, \n",
        "             path)\n",
        "\n"
      ],
      "execution_count": 0,
      "outputs": []
    },
    {
      "metadata": {
        "id": "oCQu4kGq05VT",
        "colab_type": "code",
        "colab": {}
      },
      "cell_type": "code",
      "source": [
        "# 2\n",
        "torch.save({'arch': 'vgg19',\n",
        "              'input_size': 25088,\n",
        "              'output_size': 102,\n",
        "             \n",
        "              'state_dict': model.state_dict(),\n",
        "              'class_to_idx': model.class_to_idx },path)\n",
        "\n",
        "\n",
        "# model_save_name = 'classifier.pt'\n",
        "# path = F\"/content/gdrive/My Drive/{model_save_name}\" \n",
        "# torch.save(model.state_dict(), path)\n",
        "\n",
        "# torch.save(model.sate_dict, \"/content/gdrive/My Drive/Colab Notebooks/pytorch_challenge-master/classifier.pt\")"
      ],
      "execution_count": 0,
      "outputs": []
    },
    {
      "metadata": {
        "id": "OnBaJvA4Fuy3",
        "colab_type": "code",
        "colab": {}
      },
      "cell_type": "code",
      "source": [
        "# TODO: Save the checkpoint \n",
        "# drive_path = '/content/gdrive/My Drive/'\n",
        "# file_path = F\"{drive_path}new_file.txt\"\n",
        "# with open(file_path, 'w') as f:\n",
        "#   f.write('Yellow Udacians! Welcome to all my Webinar! and you guys are super awesome wooooo!')"
      ],
      "execution_count": 0,
      "outputs": []
    },
    {
      "metadata": {
        "id": "KIXR9cgIbS3x",
        "colab_type": "code",
        "colab": {}
      },
      "cell_type": "code",
      "source": [
        "# torch.save(model.sate_dict, \"/content/gdrive/My Drive/classifier.pt\")"
      ],
      "execution_count": 0,
      "outputs": []
    },
    {
      "metadata": {
        "id": "UaMSHHhUFuy7",
        "colab_type": "text"
      },
      "cell_type": "markdown",
      "source": [
        "## Loading the checkpoint\n",
        "\n",
        "At this point it's good to write a function that can load a checkpoint and rebuild the model. That way you can come back to this project and keep working on it without having to retrain the network."
      ]
    },
    {
      "metadata": {
        "id": "pD9wViztFuy7",
        "colab_type": "code",
        "colab": {}
      },
      "cell_type": "code",
      "source": [
        "# TODO: Write a function that loads a checkpoint and rebuilds the model\n",
        "model_save_name = 'classifier2.pt'\n",
        "path = F\"/content/gdrive/My Drive/Colab Notebooks/pytorch_challenge-master/{model_save_name}\" \n",
        "# model.load_state_dict(torch.load(path))\n",
        "\n",
        "def load_model(checkpoint_path):\n",
        "    checkpoint = torch.load(checkpoint_path)\n",
        "    \n",
        "    pretrained_model = getattr(models, chpt['arch'])\n",
        "    if callable(pretrained_model):\n",
        "        model = pretrained_model(pretrained=True)\n",
        "        for param in model.parameters():\n",
        "            param.requires_grad = False\n",
        "\n",
        "    else:\n",
        "        print(\"Error\")\n",
        "\n",
        "\n",
        "    \n",
        "    model.class_to_idx = checkpoint['class_to_idx']\n",
        "    \n",
        "    # Create the classifier\n",
        "    output_size = 102\n",
        "    input_size = 1024\n",
        "    hidden_units = 512\n",
        "    classifier = nn.Sequential(OrderedDict([\n",
        "                         ('fc1', nn.Linear(input_size, hidden_units)),\n",
        "                         ('relu', nn.ReLU()),\n",
        "                         ('fc2', nn.Linear(hidden_units, output_size)),\n",
        "                         ('output', nn.LogSoftmax(dim=1))\n",
        "                         ]))\n",
        "    \n",
        "    # Put the classifier on the pretrained network\n",
        "    model.classifier = classifier\n",
        "    \n",
        "    model.load_state_dict(checkpoint['state_dict'])\n",
        "    \n",
        "    return model\n",
        "\n",
        "\n",
        "# def load_checkpoint(filepath):\n",
        "#     checkpoint = torch.load(filepath)\n",
        "#     model = fc_model.Network(checkpoint['arch'])\n",
        "#     model.load_state_dict(checkpoint['state_dict'])\n",
        "    \n",
        "#     return model"
      ],
      "execution_count": 0,
      "outputs": []
    },
    {
      "metadata": {
        "id": "Z5jnT9xpBAar",
        "colab_type": "code",
        "colab": {}
      },
      "cell_type": "code",
      "source": [
        ""
      ],
      "execution_count": 0,
      "outputs": []
    },
    {
      "metadata": {
        "id": "NVOOOpft1j_a",
        "colab_type": "code",
        "colab": {
          "base_uri": "https://localhost:8080/",
          "height": 605
        },
        "outputId": "0f0da709-6e37-4a77-f390-63c4d06ca941"
      },
      "cell_type": "code",
      "source": [
        "model = load_model(path)\n",
        "calc_accuracy(model, 'test', True)"
      ],
      "execution_count": 47,
      "outputs": [
        {
          "output_type": "stream",
          "text": [
            "tensor([54, 77, 65, 82, 96, 49, 49, 41, 73, 74, 84, 84, 90, 84, 43, 40, 38, 54,\n",
            "         6, 43, 74, 49, 38, 73, 47, 49, 74, 77, 90, 78, 77, 81],\n",
            "       device='cuda:0')\n",
            "tensor([0.0353, 0.0871, 0.0918, 0.0515, 0.1952, 0.1257, 0.0929, 0.1136, 0.0853,\n",
            "        0.0659, 0.0961, 0.0422, 0.0557, 0.1082, 0.3584, 0.0669, 0.2868, 0.0405,\n",
            "        0.0466, 0.0884, 0.0836, 0.0592, 0.6962, 0.0388, 0.1003, 0.1045, 0.0470,\n",
            "        0.0474, 0.0821, 0.0563, 0.9276, 0.3590], device='cuda:0')\n",
            "tensor([0, 0, 0, 0, 1, 0, 1, 1, 0, 0, 0, 0, 0, 1, 0, 0, 1, 0, 0, 0, 1, 0, 1, 0,\n",
            "        1, 0, 0, 0, 0, 0, 1, 1], device='cuda:0', dtype=torch.uint8)\n",
            "tensor(0.3125, device='cuda:0')\n",
            "tensor(0.5938, device='cuda:0')\n",
            "tensor(0.4375, device='cuda:0')\n",
            "tensor(0.3125, device='cuda:0')\n",
            "tensor(0.6562, device='cuda:0')\n",
            "tensor(0.6250, device='cuda:0')\n",
            "tensor(0.4375, device='cuda:0')\n",
            "tensor(0.4375, device='cuda:0')\n",
            "tensor(0.6250, device='cuda:0')\n",
            "tensor(0.5000, device='cuda:0')\n",
            "tensor(0.3438, device='cuda:0')\n",
            "tensor(0.4375, device='cuda:0')\n",
            "tensor(0.5000, device='cuda:0')\n",
            "tensor(0.5938, device='cuda:0')\n",
            "tensor(0.4062, device='cuda:0')\n",
            "tensor(0.5312, device='cuda:0')\n",
            "tensor(0.4375, device='cuda:0')\n",
            "tensor(0.5625, device='cuda:0')\n",
            "tensor(0.6250, device='cuda:0')\n",
            "tensor(0.5000, device='cuda:0')\n",
            "tensor(0.3750, device='cuda:0')\n",
            "tensor(0.5938, device='cuda:0')\n",
            "tensor(0.5312, device='cuda:0')\n",
            "tensor(0.4688, device='cuda:0')\n",
            "tensor(0.2812, device='cuda:0')\n",
            "tensor(0.5000, device='cuda:0')\n"
          ],
          "name": "stdout"
        }
      ]
    },
    {
      "metadata": {
        "id": "PYT_LTZ5-3PK",
        "colab_type": "code",
        "colab": {}
      },
      "cell_type": "code",
      "source": [
        "\n",
        "\n",
        "# # Save the checkpoint\n",
        "# checkpoint_path = '/content/drive/My Drive/PyTorch_Scholarship/saved_models/best_weights.pth'\n",
        "\n",
        "# trained_densenet.class_to_idx = image_datasets['train'].class_to_idx\n",
        "# trained_densenet.cpu()\n",
        "\n",
        "# state = {'arch': 'densenet121',\n",
        "#            'state_dict': trained_densenet.state_dict(),\n",
        "#            'class_to_idx': trained_densenet.class_to_idx}\n",
        "\n",
        "# torch.save(state, checkpoint_path)\n",
        "\n",
        "# def load_model(checkpoint_path):\n",
        "#     chpt = torch.load(checkpoint_path)\n",
        "#     pretrained_model = getattr(models, chpt['arch'])\n",
        "#     if callable(pretrained_model):\n",
        "#        model = pretrained_model(pretrained=True)\n",
        "#        for param in model.parameters():\n",
        "#            param.requires_grad = False\n",
        "#     else:\n",
        "#        print(\"Sorry base architecture not recognized\")\n",
        "\n",
        "#     model.class_to_idx = chpt['class_to_idx']\n",
        "\n",
        "#    # Create the classifier\n",
        "#     output_size = 102\n",
        "#     input_size = 1024\n",
        "#     hidden_units = 512\n",
        "#     classifier = nn.Sequential(OrderedDict([\n",
        "#                          ('fc1', nn.Linear(input_size, hidden_units)),\n",
        "#                          ('relu', nn.ReLU()),\n",
        "#                          ('fc2', nn.Linear(hidden_units, output_size)),\n",
        "#                          ('output', nn.LogSoftmax(dim=1))\n",
        "#                          ]))\n",
        "\n",
        "#     model.classifier = classifier\n",
        "\n",
        "#     model.load_state_dict(chpt['state_dict'])\n",
        "\n",
        "#     return model"
      ],
      "execution_count": 0,
      "outputs": []
    },
    {
      "metadata": {
        "id": "g-E41j71Fuy-",
        "colab_type": "text"
      },
      "cell_type": "markdown",
      "source": [
        "# Inference for classification\n",
        "\n",
        "Now you'll write a function to use a trained network for inference. That is, you'll pass an image into the network and predict the class of the flower in the image. Write a function called `predict` that takes an image and a model, then returns the top $K$ most likely classes along with the probabilities. It should look like \n",
        "\n",
        "```python\n",
        "probs, classes = predict(image_path, model)\n",
        "print(probs)\n",
        "print(classes)\n",
        "> [ 0.01558163  0.01541934  0.01452626  0.01443549  0.01407339]\n",
        "> ['70', '3', '45', '62', '55']\n",
        "```\n",
        "\n",
        "First you'll need to handle processing the input image such that it can be used in your network. \n",
        "\n",
        "## Image Preprocessing\n",
        "\n",
        "You'll want to use `PIL` to load the image ([documentation](https://pillow.readthedocs.io/en/latest/reference/Image.html)). It's best to write a function that preprocesses the image so it can be used as input for the model. This function should process the images in the same manner used for training. \n",
        "\n",
        "First, resize the images where the shortest side is 256 pixels, keeping the aspect ratio. This can be done with the [`thumbnail`](http://pillow.readthedocs.io/en/3.1.x/reference/Image.html#PIL.Image.Image.thumbnail) or [`resize`](http://pillow.readthedocs.io/en/3.1.x/reference/Image.html#PIL.Image.Image.thumbnail) methods. Then you'll need to crop out the center 224x224 portion of the image.\n",
        "\n",
        "Color channels of images are typically encoded as integers 0-255, but the model expected floats 0-1. You'll need to convert the values. It's easiest with a Numpy array, which you can get from a PIL image like so `np_image = np.array(pil_image)`.\n",
        "\n",
        "As before, the network expects the images to be normalized in a specific way. For the means, it's `[0.485, 0.456, 0.406]` and for the standard deviations `[0.229, 0.224, 0.225]`. You'll want to subtract the means from each color channel, then divide by the standard deviation. \n",
        "\n",
        "And finally, PyTorch expects the color channel to be the first dimension but it's the third dimension in the PIL image and Numpy array. You can reorder dimensions using [`ndarray.transpose`](https://docs.scipy.org/doc/numpy-1.13.0/reference/generated/numpy.ndarray.transpose.html). The color channel needs to be first and retain the order of the other two dimensions."
      ]
    },
    {
      "metadata": {
        "id": "Ln6pdE25Adv3",
        "colab_type": "code",
        "colab": {}
      },
      "cell_type": "code",
      "source": [
        "from PIL import Image\n",
        "image_path = data_dir + '/valid/7/image_07216.jpg'\n",
        "img = Image.open(image_path)"
      ],
      "execution_count": 0,
      "outputs": []
    },
    {
      "metadata": {
        "id": "JrutkaqtJsrt",
        "colab_type": "code",
        "colab": {
          "base_uri": "https://localhost:8080/",
          "height": 128
        },
        "outputId": "f145b7bc-05eb-4e0b-f89d-3992abc56a94"
      },
      "cell_type": "code",
      "source": [
        "# if img.size[0] > img.size[1]: \n",
        "#     img.thumbnail((1000000, 256) #constrain the height to be 256\n",
        "# else:\n",
        "#     img.thumbnail((256, 200000)) #otherwise constrain the width"
      ],
      "execution_count": 54,
      "outputs": [
        {
          "output_type": "error",
          "ename": "SyntaxError",
          "evalue": "ignored",
          "traceback": [
            "\u001b[0;36m  File \u001b[0;32m\"<ipython-input-54-6a0f7285530d>\"\u001b[0;36m, line \u001b[0;32m3\u001b[0m\n\u001b[0;31m    else:\u001b[0m\n\u001b[0m       ^\u001b[0m\n\u001b[0;31mSyntaxError\u001b[0m\u001b[0;31m:\u001b[0m invalid syntax\n"
          ]
        }
      ]
    },
    {
      "metadata": {
        "id": "yf1P2zTdJ2NJ",
        "colab_type": "code",
        "colab": {}
      },
      "cell_type": "code",
      "source": [
        "# left_margin = (img.width-224)/2\n",
        "# bottom_margin = (img.height-224)/2\n",
        "# right_margin = left_margin + 224\n",
        "# top_margin = bottom_margin + 224\n"
      ],
      "execution_count": 0,
      "outputs": []
    },
    {
      "metadata": {
        "id": "ljvV38vpKBVI",
        "colab_type": "code",
        "colab": {}
      },
      "cell_type": "code",
      "source": [
        "img = img.crop((left_margin, bottom_margin, right_margin,    \n",
        "                   top_margin))\n",
        "# img = np.array(img)/255\n",
        "# mean = np.array([0.485, 0.456, 0.406]) #provided mean\n",
        "# std = np.array([0.229, 0.224, 0.225]) #provided std\n",
        "# img = (img - mean)/std\n",
        "# img = img.transpose((2, 0, 1))\n"
      ],
      "execution_count": 0,
      "outputs": []
    },
    {
      "metadata": {
        "id": "GfQJxd2bFuy_",
        "colab_type": "code",
        "colab": {}
      },
      "cell_type": "code",
      "source": [
        "def process_image(image):\n",
        "    ''' Scales, crops, and normalizes a PIL image for a PyTorch model,\n",
        "        returns an Numpy array\n",
        "    '''\n",
        "    \n",
        "    # TODO: Process a PIL image for use in a PyTorch model\n",
        "    \n",
        "    # Open the image\n",
        "    from PIL import Image\n",
        "    img = Image.open(image_path)\n",
        "    # Resize\n",
        "    if img.size[0] > img.size[1]:\n",
        "        img.thumbnail((10000, 256))\n",
        "    else:\n",
        "        img.thumbnail((256, 10000))\n",
        "    # Crop \n",
        "    left_margin = (img.width-224)/2\n",
        "    bottom_margin = (img.height-224)/2\n",
        "    right_margin = left_margin + 224\n",
        "    top_margin = bottom_margin + 224\n",
        "    img = img.crop((left_margin, bottom_margin, right_margin,   \n",
        "                      top_margin))\n",
        "    # Normalize\n",
        "    img = np.array(img)/255\n",
        "    mean = np.array([0.485, 0.456, 0.406]) #provided mean\n",
        "    std = np.array([0.229, 0.224, 0.225]) #provided std\n",
        "    img = (img - mean)/std\n",
        "    \n",
        "    # Move color channels to first dimension as expected by PyTorch\n",
        "#     img = img.transpose((2, 0, 1))\n",
        "    \n",
        "    return img"
      ],
      "execution_count": 0,
      "outputs": []
    },
    {
      "metadata": {
        "id": "OeNyPEPvFuzB",
        "colab_type": "text"
      },
      "cell_type": "markdown",
      "source": [
        "To check your work, the function below converts a PyTorch tensor and displays it in the notebook. If your `process_image` function works, running the output through this function should return the original image (except for the cropped out portions)."
      ]
    },
    {
      "metadata": {
        "id": "vZgcuJGxFuzC",
        "colab_type": "code",
        "colab": {}
      },
      "cell_type": "code",
      "source": [
        "def imshow(image, ax=None, title=None):\n",
        "    \"\"\"Imshow for Tensor.\"\"\"\n",
        "    if ax is None:\n",
        "        fig, ax = plt.subplots()\n",
        "    \n",
        "    # PyTorch tensors assume the color channel is the first dimension\n",
        "    # but matplotlib assumes is the third dimension\n",
        "    image = image.numpy().transpose((1, 2, 0))\n",
        "    \n",
        "    # Undo preprocessing\n",
        "    mean = np.array([0.485, 0.456, 0.406])\n",
        "    std = np.array([0.229, 0.224, 0.225])\n",
        "    image = std * image + mean\n",
        "    \n",
        "    # Image needs to be clipped between 0 and 1 or it looks like noise when displayed\n",
        "    image = np.clip(image, 0, 1)\n",
        "    \n",
        "    ax.imshow(image)\n",
        "    \n",
        "    return ax"
      ],
      "execution_count": 0,
      "outputs": []
    },
    {
      "metadata": {
        "id": "5JMA0vSuLf7-",
        "colab_type": "code",
        "colab": {}
      },
      "cell_type": "code",
      "source": [
        "from PIL import Image\n",
        "image_path = data_dir + '/valid/7/image_07216.jpg'\n",
        "img = Image.open(image_path)"
      ],
      "execution_count": 0,
      "outputs": []
    },
    {
      "metadata": {
        "id": "Cn9C9R1wNxWN",
        "colab_type": "code",
        "colab": {
          "base_uri": "https://localhost:8080/",
          "height": 840
        },
        "outputId": "638447f3-6cb2-4a56-8dba-f78cee1d56c8"
      },
      "cell_type": "code",
      "source": [
        "# Process image\n",
        "img = process_image(image_path) \n",
        "img = torch.from_numpy(img).type(torch.FloatTensor) \n",
        "img.unsqueeze_(0)\n",
        "# Predict top 5\n",
        "# probs = torch.exp(model.forward(img)) \n",
        "# top_probs, top_labs = probs.topk(5) "
      ],
      "execution_count": 76,
      "outputs": [
        {
          "output_type": "execute_result",
          "data": {
            "text/plain": [
              "tensor([[[[ 0.4679,  0.8179,  0.4265],\n",
              "          [ 0.8961,  1.2381,  1.0365],\n",
              "          [ 1.7352,  2.2535,  2.0997],\n",
              "          ...,\n",
              "          [-1.4158, -1.1954, -1.2816],\n",
              "          [-1.3473, -1.1254, -1.1944],\n",
              "          [-1.3815, -1.1604, -1.2467]],\n",
              "\n",
              "         [[ 0.8276,  1.1155,  0.7054],\n",
              "          [ 1.6495,  1.9909,  1.7685],\n",
              "          [ 1.7865,  2.3761,  2.0997],\n",
              "          ...,\n",
              "          [-1.4329, -1.2129, -1.2990],\n",
              "          [-1.3644, -1.1429, -1.2293],\n",
              "          [-1.3644, -1.1429, -1.2293]],\n",
              "\n",
              "         [[ 1.2728,  1.6232,  1.1237],\n",
              "          [ 1.9064,  2.3585,  2.0125],\n",
              "          [ 1.2043,  1.9209,  1.4200],\n",
              "          ...,\n",
              "          [-1.4329, -1.2129, -1.2990],\n",
              "          [-1.3473, -1.1254, -1.2119],\n",
              "          [-1.3987, -1.1779, -1.2641]],\n",
              "\n",
              "         ...,\n",
              "\n",
              "         [[-1.6384, -1.2479, -1.7173],\n",
              "          [-1.6727, -1.2479, -1.7173],\n",
              "          [ 0.0569,  0.5378, -0.0441],\n",
              "          ...,\n",
              "          [-1.9809, -1.7731, -1.7347],\n",
              "          [-1.9295, -1.7556, -1.6824],\n",
              "          [-1.9467, -1.8081, -1.6999]],\n",
              "\n",
              "         [[-1.7583, -1.3880, -1.7870],\n",
              "          [-0.9534, -0.5476, -1.1073],\n",
              "          [ 0.4508,  0.9055,  0.2696],\n",
              "          ...,\n",
              "          [-1.9980, -1.7906, -1.8044],\n",
              "          [-1.8610, -1.7206, -1.6824],\n",
              "          [-1.9980, -1.8782, -1.7522]],\n",
              "\n",
              "         [[-1.8782, -1.5280, -1.8044],\n",
              "          [-0.1828,  0.2227, -0.2881],\n",
              "          [-0.0972,  0.3452, -0.2184],\n",
              "          ...,\n",
              "          [-2.0152, -1.8256, -1.7870],\n",
              "          [-1.8268, -1.6681, -1.6302],\n",
              "          [-1.9980, -1.8606, -1.7522]]]])"
            ]
          },
          "metadata": {
            "tags": []
          },
          "execution_count": 76
        }
      ]
    },
    {
      "metadata": {
        "id": "jXT04-68Kdzw",
        "colab_type": "code",
        "colab": {
          "base_uri": "https://localhost:8080/",
          "height": 548
        },
        "outputId": "17fefe56-c567-4e90-d899-100561024b46"
      },
      "cell_type": "code",
      "source": [
        "# image_path = data_dir + '/valid/7/image_07216.jpg'\n",
        "img = process_image(image_path)\n",
        "imshow(img)"
      ],
      "execution_count": 77,
      "outputs": [
        {
          "output_type": "error",
          "ename": "AttributeError",
          "evalue": "ignored",
          "traceback": [
            "\u001b[0;31m---------------------------------------------------------------------------\u001b[0m",
            "\u001b[0;31mAttributeError\u001b[0m                            Traceback (most recent call last)",
            "\u001b[0;32m<ipython-input-77-a2822080d18f>\u001b[0m in \u001b[0;36m<module>\u001b[0;34m()\u001b[0m\n\u001b[1;32m      1\u001b[0m \u001b[0mimg\u001b[0m \u001b[0;34m=\u001b[0m \u001b[0mprocess_image\u001b[0m\u001b[0;34m(\u001b[0m\u001b[0mimage_path\u001b[0m\u001b[0;34m)\u001b[0m\u001b[0;34m\u001b[0m\u001b[0;34m\u001b[0m\u001b[0m\n\u001b[0;32m----> 2\u001b[0;31m \u001b[0mimshow\u001b[0m\u001b[0;34m(\u001b[0m\u001b[0mimg\u001b[0m\u001b[0;34m)\u001b[0m\u001b[0;34m\u001b[0m\u001b[0;34m\u001b[0m\u001b[0m\n\u001b[0m",
            "\u001b[0;32m<ipython-input-70-3a715a51c757>\u001b[0m in \u001b[0;36mimshow\u001b[0;34m(image, ax, title)\u001b[0m\n\u001b[1;32m      6\u001b[0m     \u001b[0;31m# PyTorch tensors assume the color channel is the first dimension\u001b[0m\u001b[0;34m\u001b[0m\u001b[0;34m\u001b[0m\u001b[0;34m\u001b[0m\u001b[0m\n\u001b[1;32m      7\u001b[0m     \u001b[0;31m# but matplotlib assumes is the third dimension\u001b[0m\u001b[0;34m\u001b[0m\u001b[0;34m\u001b[0m\u001b[0;34m\u001b[0m\u001b[0m\n\u001b[0;32m----> 8\u001b[0;31m     \u001b[0mimage\u001b[0m \u001b[0;34m=\u001b[0m \u001b[0mimage\u001b[0m\u001b[0;34m.\u001b[0m\u001b[0mnumpy\u001b[0m\u001b[0;34m(\u001b[0m\u001b[0;34m)\u001b[0m\u001b[0;34m.\u001b[0m\u001b[0mtranspose\u001b[0m\u001b[0;34m(\u001b[0m\u001b[0;34m(\u001b[0m\u001b[0;36m1\u001b[0m\u001b[0;34m,\u001b[0m \u001b[0;36m2\u001b[0m\u001b[0;34m,\u001b[0m \u001b[0;36m0\u001b[0m\u001b[0;34m)\u001b[0m\u001b[0;34m)\u001b[0m\u001b[0;34m\u001b[0m\u001b[0;34m\u001b[0m\u001b[0m\n\u001b[0m\u001b[1;32m      9\u001b[0m \u001b[0;34m\u001b[0m\u001b[0m\n\u001b[1;32m     10\u001b[0m     \u001b[0;31m# Undo preprocessing\u001b[0m\u001b[0;34m\u001b[0m\u001b[0;34m\u001b[0m\u001b[0;34m\u001b[0m\u001b[0m\n",
            "\u001b[0;31mAttributeError\u001b[0m: 'numpy.ndarray' object has no attribute 'numpy'"
          ]
        },
        {
          "output_type": "display_data",
          "data": {
            "image/png": "[encoded data removed]",
            "text/plain": [
              "<matplotlib.figure.Figure at 0x7f30b2b54470>"
            ]
          },
          "metadata": {
            "tags": []
          }
        }
      ]
    },
    {
      "metadata": {
        "id": "N6I3HGaEORjc",
        "colab_type": "code",
        "colab": {}
      },
      "cell_type": "code",
      "source": [
        "# Process image\n",
        "img = process_image(image_path) \n",
        "img = torch.from_numpy(img).type(torch.FloatTensor) \n",
        "img.unsqueeze_(0)\n",
        "# Predict top 5\n",
        "top_probs = top_probs.detach().numpy().tolist()[0]\n",
        "top_labs = top_labs.detach().numpy().tolist()[0]"
      ],
      "execution_count": 0,
      "outputs": []
    },
    {
      "metadata": {
        "id": "_oY0gPm1FuzE",
        "colab_type": "text"
      },
      "cell_type": "markdown",
      "source": [
        "## Class Prediction\n",
        "\n",
        "Once you can get images in the correct format, it's time to write a function for making predictions with your model. A common practice is to predict the top 5 or so (usually called top-$K$) most probable classes. You'll want to calculate the class probabilities then find the $K$ largest values.\n",
        "\n",
        "To get the top $K$ largest values in a tensor use [`x.topk(k)`](http://pytorch.org/docs/master/torch.html#torch.topk). This method returns both the highest `k` probabilities and the indices of those probabilities corresponding to the classes. You need to convert from these indices to the actual class labels using `class_to_idx` which hopefully you added to the model or from an `ImageFolder` you used to load the data ([see here](#Save-the-checkpoint)). Make sure to invert the dictionary so you get a mapping from index to class as well.\n",
        "\n",
        "Again, this method should take a path to an image and a model checkpoint, then return the probabilities and classes.\n",
        "\n",
        "```python\n",
        "probs, classes = predict(image_path, model)\n",
        "print(probs)\n",
        "print(classes)\n",
        "> [ 0.01558163  0.01541934  0.01452626  0.01443549  0.01407339]\n",
        "> ['70', '3', '45', '62', '55']\n",
        "```"
      ]
    },
    {
      "metadata": {
        "id": "s0ck_IBIO7H9",
        "colab_type": "code",
        "colab": {
          "base_uri": "https://localhost:8080/",
          "height": 162
        },
        "outputId": "6ffe510b-ede4-4956-f4b7-3a014c5253e2"
      },
      "cell_type": "code",
      "source": [
        "top_labs = top_labs.detach().numpy().tolist()[0]"
      ],
      "execution_count": 83,
      "outputs": [
        {
          "output_type": "error",
          "ename": "NameError",
          "evalue": "ignored",
          "traceback": [
            "\u001b[0;31m---------------------------------------------------------------------------\u001b[0m",
            "\u001b[0;31mNameError\u001b[0m                                 Traceback (most recent call last)",
            "\u001b[0;32m<ipython-input-83-6b43c6b37220>\u001b[0m in \u001b[0;36m<module>\u001b[0;34m()\u001b[0m\n\u001b[0;32m----> 1\u001b[0;31m \u001b[0mtop_labs\u001b[0m \u001b[0;34m=\u001b[0m \u001b[0mtop_labs\u001b[0m\u001b[0;34m.\u001b[0m\u001b[0mdetach\u001b[0m\u001b[0;34m(\u001b[0m\u001b[0;34m)\u001b[0m\u001b[0;34m.\u001b[0m\u001b[0mnumpy\u001b[0m\u001b[0;34m(\u001b[0m\u001b[0;34m)\u001b[0m\u001b[0;34m.\u001b[0m\u001b[0mtolist\u001b[0m\u001b[0;34m(\u001b[0m\u001b[0;34m)\u001b[0m\u001b[0;34m[\u001b[0m\u001b[0;36m0\u001b[0m\u001b[0;34m]\u001b[0m\u001b[0;34m\u001b[0m\u001b[0;34m\u001b[0m\u001b[0m\n\u001b[0m",
            "\u001b[0;31mNameError\u001b[0m: name 'top_labs' is not defined"
          ]
        }
      ]
    },
    {
      "metadata": {
        "id": "YAMD5M41Ozq3",
        "colab_type": "code",
        "colab": {
          "base_uri": "https://localhost:8080/",
          "height": 178
        },
        "outputId": "96aabaea-fa16-480d-a046-4c75075577c9"
      },
      "cell_type": "code",
      "source": [
        "idx_to_class = {val: key for key, val in model.class_to_idx.items()}\n",
        "top_labels = [idx_to_class[lab] for lab in top_labs]"
      ],
      "execution_count": 82,
      "outputs": [
        {
          "output_type": "error",
          "ename": "NameError",
          "evalue": "ignored",
          "traceback": [
            "\u001b[0;31m---------------------------------------------------------------------------\u001b[0m",
            "\u001b[0;31mNameError\u001b[0m                                 Traceback (most recent call last)",
            "\u001b[0;32m<ipython-input-82-4990db0ed68c>\u001b[0m in \u001b[0;36m<module>\u001b[0;34m()\u001b[0m\n\u001b[1;32m      1\u001b[0m \u001b[0midx_to_class\u001b[0m \u001b[0;34m=\u001b[0m \u001b[0;34m{\u001b[0m\u001b[0mval\u001b[0m\u001b[0;34m:\u001b[0m \u001b[0mkey\u001b[0m \u001b[0;32mfor\u001b[0m \u001b[0mkey\u001b[0m\u001b[0;34m,\u001b[0m \u001b[0mval\u001b[0m \u001b[0;32min\u001b[0m \u001b[0mmodel\u001b[0m\u001b[0;34m.\u001b[0m\u001b[0mclass_to_idx\u001b[0m\u001b[0;34m.\u001b[0m\u001b[0mitems\u001b[0m\u001b[0;34m(\u001b[0m\u001b[0;34m)\u001b[0m\u001b[0;34m}\u001b[0m\u001b[0;34m\u001b[0m\u001b[0;34m\u001b[0m\u001b[0m\n\u001b[0;32m----> 2\u001b[0;31m \u001b[0mtop_labels\u001b[0m \u001b[0;34m=\u001b[0m \u001b[0;34m[\u001b[0m\u001b[0midx_to_class\u001b[0m\u001b[0;34m[\u001b[0m\u001b[0mlab\u001b[0m\u001b[0;34m]\u001b[0m \u001b[0;32mfor\u001b[0m \u001b[0mlab\u001b[0m \u001b[0;32min\u001b[0m \u001b[0mtop_labs\u001b[0m\u001b[0;34m]\u001b[0m\u001b[0;34m\u001b[0m\u001b[0;34m\u001b[0m\u001b[0m\n\u001b[0m",
            "\u001b[0;31mNameError\u001b[0m: name 'top_labs' is not defined"
          ]
        }
      ]
    },
    {
      "metadata": {
        "id": "T-h1lRTBOsSt",
        "colab_type": "code",
        "colab": {
          "base_uri": "https://localhost:8080/",
          "height": 162
        },
        "outputId": "fb744f51-fc2e-4129-b9dd-f8f71062a4c8"
      },
      "cell_type": "code",
      "source": [
        "top_flowers = [label_map[idx_to_class[lab]] for lab in top_labs]\n"
      ],
      "execution_count": 81,
      "outputs": [
        {
          "output_type": "error",
          "ename": "NameError",
          "evalue": "ignored",
          "traceback": [
            "\u001b[0;31m---------------------------------------------------------------------------\u001b[0m",
            "\u001b[0;31mNameError\u001b[0m                                 Traceback (most recent call last)",
            "\u001b[0;32m<ipython-input-81-20ce066618a2>\u001b[0m in \u001b[0;36m<module>\u001b[0;34m()\u001b[0m\n\u001b[0;32m----> 1\u001b[0;31m \u001b[0mtop_flowers\u001b[0m \u001b[0;34m=\u001b[0m \u001b[0;34m[\u001b[0m\u001b[0mlabel_map\u001b[0m\u001b[0;34m[\u001b[0m\u001b[0midx_to_class\u001b[0m\u001b[0;34m[\u001b[0m\u001b[0mlab\u001b[0m\u001b[0;34m]\u001b[0m\u001b[0;34m]\u001b[0m \u001b[0;32mfor\u001b[0m \u001b[0mlab\u001b[0m \u001b[0;32min\u001b[0m \u001b[0mtop_labs\u001b[0m\u001b[0;34m]\u001b[0m\u001b[0;34m\u001b[0m\u001b[0;34m\u001b[0m\u001b[0m\n\u001b[0m",
            "\u001b[0;31mNameError\u001b[0m: name 'top_labs' is not defined"
          ]
        }
      ]
    },
    {
      "metadata": {
        "id": "hPFSqXeeFuzG",
        "colab_type": "code",
        "colab": {}
      },
      "cell_type": "code",
      "source": [
        "def predict(image_path, model, topk=5):\n",
        "    ''' Predict the class (or classes) of an image using a trained deep learning model.\n",
        "    '''\n",
        "    # Process image\n",
        "    img = process_image(image_path)\n",
        "\n",
        "    # Numpy -> Tensor\n",
        "    image_tensor = torch.from_numpy(img).type(torch.FloatTensor)\n",
        "    # Add batch of size 1 to image\n",
        "    model_input = image_tensor.unsqueeze(0)\n",
        "\n",
        "    # Probs\n",
        "    probs = torch.exp(model.forward(model_input))\n",
        "\n",
        "    # Top probs\n",
        "    top_probs, top_labs = probs.topk(topk)\n",
        "    top_probs = top_probs.detach().numpy().tolist()[0]\n",
        "    top_labs = top_labs.detach().numpy().tolist()[0]\n",
        "\n",
        "    # Convert indices to classes\n",
        "    idx_to_class = {val: key for key, val in\n",
        "                                     model.class_to_idx.items()}\n",
        "    top_labels = [idx_to_class[lab] for lab in top_labs]\n",
        "    top_flowers = [cat_to_name[idx_to_class[lab]] for lab in top_labs]\n",
        "\n",
        "\n",
        "# def predict(image_path, model, topk=5):\n",
        "#     ''' Predict the class (or classes) of an image using a trained deep learning model.\n",
        "#     '''\n",
        "    \n",
        "#     # TODO: Implement the code to predict the class from an image file\n",
        "#     test_loss = 0.0\n",
        "#     class_correct = list(0. for i in range(5))\n",
        "#     class_total = list(0. for i in range(5))\n",
        "\n",
        "#     vgg16.eval() # eval mode\n",
        "\n",
        "#     # iterate over test data\n",
        "#     for data, target in test_loader:\n",
        "#         # move tensors to GPU if CUDA is available\n",
        "#         if train_on_gpu:\n",
        "#             data, target = data.cuda(), target.cuda()\n",
        "#         # forward pass: compute predicted outputs by passing inputs to the model\n",
        "#         output = vgg16(data)\n",
        "#         # calculate the batch loss\n",
        "#         loss = criterion(output, target)\n",
        "#         # update  test loss \n",
        "#         test_loss += loss.item()*data.size(0)\n",
        "#         # convert output probabilities to predicted class\n",
        "#         _, pred = torch.max(output, 1)    \n",
        "#         # compare predictions to true label\n",
        "#         correct_tensor = pred.eq(target.data.view_as(pred))\n",
        "#         correct = np.squeeze(correct_tensor.numpy()) if not train_on_gpu else np.squeeze(correct_tensor.cpu().numpy())\n",
        "#         # calculate test accuracy for each object class\n",
        "#         for i in range(batch_size):\n",
        "#             label = target.data[i]\n",
        "#             class_correct[label] += correct[i].item()\n",
        "#             class_total[label] += 1\n",
        "\n",
        "#     # calculate avg test loss\n",
        "#     test_loss = test_loss/len(test_loader.dataset)\n",
        "#     print('Test Loss: {:.6f}\\n'.format(test_loss))\n",
        "\n",
        "#     for i in range(5):\n",
        "#         if class_total[i] > 0:\n",
        "#             print('Test Accuracy of %5s: %2d%% (%2d/%2d)' % (\n",
        "#                 classes[i], 100 * class_correct[i] / class_total[i],\n",
        "#                 np.sum(class_correct[i]), np.sum(class_total[i])))\n",
        "#         else:\n",
        "#             print('Test Accuracy of %5s: N/A (no training examples)' % (classes[i]))\n",
        "\n",
        "#     print('\\nTest Accuracy (Overall): %2d%% (%2d/%2d)' % (\n",
        "#         100. * np.sum(class_correct) / np.sum(class_total),\n",
        "#         np.sum(class_correct), np.sum(class_total)))"
      ],
      "execution_count": 0,
      "outputs": []
    },
    {
      "metadata": {
        "id": "dfwndE_vFuzI",
        "colab_type": "text"
      },
      "cell_type": "markdown",
      "source": [
        "## Sanity Checking\n",
        "\n",
        "Now that you can use a trained model for predictions, check to make sure it makes sense. Even if the validation accuracy is high, it's always good to check that there aren't obvious bugs. Use `matplotlib` to plot the probabilities for the top 5 classes as a bar graph, along with the input image. It should look like this:\n",
        "\n",
        "<img src='assets/inference_example.png' width=300px>\n",
        "\n",
        "You can convert from the class integer encoding to actual flower names with the `cat_to_name.json` file (should have been loaded earlier in the notebook). To show a PyTorch tensor as an image, use the `imshow` function defined above."
      ]
    },
    {
      "metadata": {
        "id": "52B5rHj_FuzJ",
        "colab_type": "code",
        "colab": {}
      },
      "cell_type": "code",
      "source": [
        "# TODO: Display an image along with the top 5 classes"
      ],
      "execution_count": 0,
      "outputs": []
    },
    {
      "metadata": {
        "id": "Uhv63H49Hjxi",
        "colab_type": "code",
        "colab": {}
      },
      "cell_type": "code",
      "source": [
        "def plot_solution(image_path, model):\n",
        "    # Set up plot\n",
        "    plt.figure(figsize = (6,10))\n",
        "    ax = plt.subplot(2,1,1)\n",
        "    # Set up title\n",
        "    flower_num = image_path.split('/')[1]\n",
        "    title_ = label_map[flower_num]\n",
        "    # Plot flower\n",
        "    img = process_image(image_path)\n",
        "    imshow(img, ax, title = title_);\n",
        "    # Make prediction\n",
        "    probs, labs, flowers = predict(image_path, model) \n",
        "    # Plot bar chart\n",
        "    plt.subplot(2,1,2)\n",
        "    sns.barplot(x=probs, y=flowers, color=sns.color_palette()[0]);\n",
        "    plt.show()"
      ],
      "execution_count": 0,
      "outputs": []
    },
    {
      "metadata": {
        "id": "EWWaO9smNmvq",
        "colab_type": "code",
        "colab": {
          "base_uri": "https://localhost:8080/",
          "height": 595
        },
        "outputId": "12c0be4c-b797-495e-ca38-8bb38a579483"
      },
      "cell_type": "code",
      "source": [
        "image_path = data_dir + '/valid/7/image_07216.jpg'\n",
        "\n",
        "plot_solution(image_path, model)"
      ],
      "execution_count": 80,
      "outputs": [
        {
          "output_type": "error",
          "ename": "NameError",
          "evalue": "ignored",
          "traceback": [
            "\u001b[0;31m---------------------------------------------------------------------------\u001b[0m",
            "\u001b[0;31mNameError\u001b[0m                                 Traceback (most recent call last)",
            "\u001b[0;32m<ipython-input-80-8f99381f0ec1>\u001b[0m in \u001b[0;36m<module>\u001b[0;34m()\u001b[0m\n\u001b[1;32m      1\u001b[0m \u001b[0mimage_path\u001b[0m \u001b[0;34m=\u001b[0m \u001b[0mdata_dir\u001b[0m \u001b[0;34m+\u001b[0m \u001b[0;34m'/valid/7/image_07216.jpg'\u001b[0m\u001b[0;34m\u001b[0m\u001b[0;34m\u001b[0m\u001b[0m\n\u001b[1;32m      2\u001b[0m \u001b[0;34m\u001b[0m\u001b[0m\n\u001b[0;32m----> 3\u001b[0;31m \u001b[0mplot_solution\u001b[0m\u001b[0;34m(\u001b[0m\u001b[0mimage_path\u001b[0m\u001b[0;34m,\u001b[0m \u001b[0mmodel\u001b[0m\u001b[0;34m)\u001b[0m\u001b[0;34m\u001b[0m\u001b[0;34m\u001b[0m\u001b[0m\n\u001b[0m",
            "\u001b[0;32m<ipython-input-79-6e8f1560dd32>\u001b[0m in \u001b[0;36mplot_solution\u001b[0;34m(image_path, model)\u001b[0m\n\u001b[1;32m      5\u001b[0m     \u001b[0;31m# Set up title\u001b[0m\u001b[0;34m\u001b[0m\u001b[0;34m\u001b[0m\u001b[0;34m\u001b[0m\u001b[0m\n\u001b[1;32m      6\u001b[0m     \u001b[0mflower_num\u001b[0m \u001b[0;34m=\u001b[0m \u001b[0mimage_path\u001b[0m\u001b[0;34m.\u001b[0m\u001b[0msplit\u001b[0m\u001b[0;34m(\u001b[0m\u001b[0;34m'/'\u001b[0m\u001b[0;34m)\u001b[0m\u001b[0;34m[\u001b[0m\u001b[0;36m1\u001b[0m\u001b[0;34m]\u001b[0m\u001b[0;34m\u001b[0m\u001b[0;34m\u001b[0m\u001b[0m\n\u001b[0;32m----> 7\u001b[0;31m     \u001b[0mtitle_\u001b[0m \u001b[0;34m=\u001b[0m \u001b[0mlabel_map\u001b[0m\u001b[0;34m[\u001b[0m\u001b[0mflower_num\u001b[0m\u001b[0;34m]\u001b[0m\u001b[0;34m\u001b[0m\u001b[0;34m\u001b[0m\u001b[0m\n\u001b[0m\u001b[1;32m      8\u001b[0m     \u001b[0;31m# Plot flower\u001b[0m\u001b[0;34m\u001b[0m\u001b[0;34m\u001b[0m\u001b[0;34m\u001b[0m\u001b[0m\n\u001b[1;32m      9\u001b[0m     \u001b[0mimg\u001b[0m \u001b[0;34m=\u001b[0m \u001b[0mprocess_image\u001b[0m\u001b[0;34m(\u001b[0m\u001b[0mimage_path\u001b[0m\u001b[0;34m)\u001b[0m\u001b[0;34m\u001b[0m\u001b[0;34m\u001b[0m\u001b[0m\n",
            "\u001b[0;31mNameError\u001b[0m: name 'label_map' is not defined"
          ]
        },
        {
          "output_type": "display_data",
          "data": {
            "image/png": "[encoded data removed]",
            "text/plain": [
              "<matplotlib.figure.Figure at 0x7f30b27e1cc0>"
            ]
          },
          "metadata": {
            "tags": []
          }
        }
      ]
    },
    {
      "metadata": {
        "id": "sRWrhdDsOjFE",
        "colab_type": "code",
        "colab": {}
      },
      "cell_type": "code",
      "source": [
        ""
      ],
      "execution_count": 0,
      "outputs": []
    }
  ]
}