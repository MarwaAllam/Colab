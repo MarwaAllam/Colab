{
  "nbformat": 4,
  "nbformat_minor": 0,
  "metadata": {
    "colab": {
      "name": "Hello World!.ipynb",
      "version": "0.3.2",
      "provenance": [],
      "collapsed_sections": [],
      "include_colab_link": true
    },
    "kernelspec": {
      "name": "python3",
      "display_name": "Python 3"
    },
    "accelerator": "GPU"
  },
  "cells": [
    {
      "cell_type": "markdown",
      "metadata": {
        "id": "view-in-github",
        "colab_type": "text"
      },
      "source": [
        "<a href=\"https://colab.research.google.com/github/MarwaAllam/Colab/blob/master/Hello_World!.ipynb\" target=\"_parent\"><img src=\"https://colab.research.google.com/assets/colab-badge.svg\" alt=\"Open In Colab\"/></a>"
      ]
    },
    {
      "metadata": {
        "id": "FAt7En_IppTM",
        "colab_type": "text"
      },
      "cell_type": "markdown",
      "source": [
        "## Hello World!"
      ]
    },
    {
      "metadata": {
        "id": "f9MMBnk1pPYg",
        "colab_type": "text"
      },
      "cell_type": "markdown",
      "source": [
        "This notebook was created as part of a webinar. You can check the Webinar here - https://www.youtube.com/watch?v=Gblg8FMUn9k\n",
        "\n",
        "If you need any help, feel free to contact me on Slack. My slack id is **avinashss**"
      ]
    },
    {
      "metadata": {
        "id": "RhLbtDqTo7Nd",
        "colab_type": "code",
        "outputId": "d93c801a-b41a-48c7-cb2b-9c6dac64f195",
        "colab": {
          "base_uri": "https://localhost:8080/",
          "height": 34
        }
      },
      "cell_type": "code",
      "source": [
        "print(\"Hello World Marwa!\")"
      ],
      "execution_count": 1,
      "outputs": [
        {
          "output_type": "stream",
          "text": [
            "Hello World Marwa!\n"
          ],
          "name": "stdout"
        }
      ]
    },
    {
      "metadata": {
        "id": "MKWjoW-upEhr",
        "colab_type": "code",
        "outputId": "f003808a-1828-4e15-fbe8-48ce72e743da",
        "colab": {
          "base_uri": "https://localhost:8080/",
          "height": 34
        }
      },
      "cell_type": "code",
      "source": [
        "print(\"Hey! My fellow Udacians\")"
      ],
      "execution_count": 2,
      "outputs": [
        {
          "output_type": "stream",
          "text": [
            "Hey! My fellow Udacians\n"
          ],
          "name": "stdout"
        }
      ]
    },
    {
      "metadata": {
        "id": "1-My43DbY6FG",
        "colab_type": "code",
        "colab": {}
      },
      "cell_type": "code",
      "source": [
        ""
      ],
      "execution_count": 0,
      "outputs": []
    },
    {
      "metadata": {
        "id": "shZygis2ICfr",
        "colab_type": "code",
        "colab": {}
      },
      "cell_type": "code",
      "source": [
        ""
      ],
      "execution_count": 0,
      "outputs": []
    }
  ]
}